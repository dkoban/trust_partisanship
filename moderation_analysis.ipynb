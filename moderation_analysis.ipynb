{
 "cells": [
  {
   "cell_type": "markdown",
   "metadata": {},
   "source": [
    "## Moderation Analysis"
   ]
  },
  {
   "cell_type": "code",
   "execution_count": 1,
   "metadata": {},
   "outputs": [
    {
     "data": {
      "text/html": [
       "'Initial sample: 371'"
      ],
      "text/latex": [
       "'Initial sample: 371'"
      ],
      "text/markdown": [
       "'Initial sample: 371'"
      ],
      "text/plain": [
       "[1] \"Initial sample: 371\""
      ]
     },
     "metadata": {},
     "output_type": "display_data"
    }
   ],
   "source": [
    "suppressWarnings(suppressMessages(library(tidyverse)))\n",
    "suppressWarnings(suppressMessages(library(gridExtra)))\n",
    "suppressWarnings(suppressMessages(library(memisc)))\n",
    "library(emmeans)\n",
    "\n",
    "# Load the data\n",
    "load(file = \"~/Documents/vcf/data/moderation.RData\")\n",
    "paste0(\"Initial sample: \", nrow(vcf_data))"
   ]
  },
  {
   "cell_type": "markdown",
   "metadata": {},
   "source": [
    "### PHI Trust Interactions"
   ]
  },
  {
   "cell_type": "code",
   "execution_count": 2,
   "metadata": {},
   "outputs": [],
   "source": [
    "test_interaction_phi_trust <- function(data){\n",
    "    \n",
    "    data$group <- factor(data$group, levels = c(\"Control\", \"Treatment\"))    \n",
    "    \n",
    "    # fit base model    \n",
    "    base_model <- aov(post ~ group*phi_trust_cat + wave + \n",
    "                      republican + conservative + \n",
    "                      employment2 + education2 + marital_status + gender + age + income2 +                     \n",
    "                      pre, data = data)\n",
    "     \n",
    "    # calculate Box-Cox lambda\n",
    "    bc <- trafo::boxcox(base_model, method = \"ml\", lambdarange = c(-10, 3), plotit = FALSE)\n",
    "    lambda <- bc$lambdahat\n",
    "    bctrans <- make.tran(\"boxcox\", lambda)\n",
    "  \n",
    "    # fit model to transformed data    \n",
    "    model <- with(bctrans,\n",
    "              aov(linkfun(post) ~ group*phi_trust_cat + wave + \n",
    "                                  republican + conservative + \n",
    "                                  employment2 + education2 + marital_status + gender + age + income2 +                     \n",
    "                                  linkfun(pre), data = data))       \n",
    "    \n",
    "     lm_model <- with(bctrans,\n",
    "              lm(linkfun(post) ~ group*phi_trust_cat + wave + \n",
    "                                  republican + conservative + \n",
    "                                  employment2 + education2 + marital_status + gender + age + income2 +                     \n",
    "                                  linkfun(pre), data = data))    \n",
    "    \n",
    "    mean <- model$coefficients[names(model$coefficients) %>% str_detect(\":\")]\n",
    "    ci_tbl <- model %>% confint() %>% as_tibble()\n",
    "    row_names <- model %>% confint() %>% rownames()\n",
    "    idx <- which(row_names %>% str_detect(\":\"))\n",
    "    low <- ci_tbl$`2.5 %`[idx]\n",
    "    high <- ci_tbl$`97.5 %`[idx]\n",
    "    idx <- which(rownames(car::Anova(model, type = \"III\")) %>% str_detect(\":\"))\n",
    "    p <- car::Anova(model, type = \"III\")[[4]][idx]\n",
    "    sig = \"\"\n",
    "    if (p < 0.05){sig = \"*\"}\n",
    "    if (p < 0.01){sig = \"**\"}\n",
    "    if (p < 0.001){sig = \"***\"}\n",
    "    ci_summary <- paste0(\"mean = \", round(mean, 3), \n",
    "                         \"; 95% CI = \", round(low, 3), \", \", round(high, 3), \n",
    "                         \"; P = \", round(p, 4))\n",
    "        \n",
    "    return(list(\n",
    "        \"base_model\" = base_model,        \n",
    "        \"model\" = model,\n",
    "        \"lm_model\" = lm_model,\n",
    "        \"ci_summary\" = ci_summary))}"
   ]
  },
  {
   "cell_type": "code",
   "execution_count": 3,
   "metadata": {},
   "outputs": [
    {
     "data": {
      "text/html": [
       "'Intentions: mean = 0.103; 95% CI = -0.003, 0.21; P = 0.0578'"
      ],
      "text/latex": [
       "'Intentions: mean = 0.103; 95\\% CI = -0.003, 0.21; P = 0.0578'"
      ],
      "text/markdown": [
       "'Intentions: mean = 0.103; 95% CI = -0.003, 0.21; P = 0.0578'"
      ],
      "text/plain": [
       "[1] \"Intentions: mean = 0.103; 95% CI = -0.003, 0.21; P = 0.0578\""
      ]
     },
     "metadata": {},
     "output_type": "display_data"
    },
    {
     "data": {
      "text/html": [
       "'Intentions to encourage: mean = 0.127; 95% CI = -0.019, 0.272; P = 0.0878'"
      ],
      "text/latex": [
       "'Intentions to encourage: mean = 0.127; 95\\% CI = -0.019, 0.272; P = 0.0878'"
      ],
      "text/markdown": [
       "'Intentions to encourage: mean = 0.127; 95% CI = -0.019, 0.272; P = 0.0878'"
      ],
      "text/plain": [
       "[1] \"Intentions to encourage: mean = 0.127; 95% CI = -0.019, 0.272; P = 0.0878\""
      ]
     },
     "metadata": {},
     "output_type": "display_data"
    },
    {
     "data": {
      "text/html": [
       "'Vaccine confidence beliefs: mean = 0.214; 95% CI = 0.044, 0.384; P = 0.0136'"
      ],
      "text/latex": [
       "'Vaccine confidence beliefs: mean = 0.214; 95\\% CI = 0.044, 0.384; P = 0.0136'"
      ],
      "text/markdown": [
       "'Vaccine confidence beliefs: mean = 0.214; 95% CI = 0.044, 0.384; P = 0.0136'"
      ],
      "text/plain": [
       "[1] \"Vaccine confidence beliefs: mean = 0.214; 95% CI = 0.044, 0.384; P = 0.0136\""
      ]
     },
     "metadata": {},
     "output_type": "display_data"
    },
    {
     "data": {
      "text/html": [
       "'Vaccine complacency beliefs: mean = 0.029; 95% CI = -0.163, 0.222; P = 0.7631'"
      ],
      "text/latex": [
       "'Vaccine complacency beliefs: mean = 0.029; 95\\% CI = -0.163, 0.222; P = 0.7631'"
      ],
      "text/markdown": [
       "'Vaccine complacency beliefs: mean = 0.029; 95% CI = -0.163, 0.222; P = 0.7631'"
      ],
      "text/plain": [
       "[1] \"Vaccine complacency beliefs: mean = 0.029; 95% CI = -0.163, 0.222; P = 0.7631\""
      ]
     },
     "metadata": {},
     "output_type": "display_data"
    }
   ],
   "source": [
    "intention <- test_interaction_phi_trust(data = vcf_data %>% dplyr::mutate(post = intention_6_n, pre = base_intention_n))\n",
    "encourage <- test_interaction_phi_trust(data = vcf_data %>% dplyr::mutate(post = encourage_6_n, pre = base_encourage_n))\n",
    "sp_confidence <- test_interaction_phi_trust(data = vcf_data %>% dplyr::mutate(post = sp_confidence_6_n, pre = base_sp_confidence_n))\n",
    "sp_complacency <- test_interaction_phi_trust(data = vcf_data %>% dplyr::mutate(post = sp_complacency_6_n, pre = base_sp_complacency_n))\n",
    "#car::Anova(intention$model, type = \"III\") %>% round(3)\n",
    "\n",
    "paste0(\"Intentions: \", intention$ci_summary)\n",
    "paste0(\"Intentions to encourage: \", encourage$ci_summary)\n",
    "paste0(\"Vaccine confidence beliefs: \", sp_confidence$ci_summary)\n",
    "paste0(\"Vaccine complacency beliefs: \", sp_complacency$ci_summary)"
   ]
  },
  {
   "cell_type": "markdown",
   "metadata": {},
   "source": [
    "### Gov Trust Interactions"
   ]
  },
  {
   "cell_type": "code",
   "execution_count": 4,
   "metadata": {},
   "outputs": [],
   "source": [
    "test_interaction_gov_trust <- function(data){\n",
    "    \n",
    "    data$group <- factor(data$group, levels = c(\"Control\", \"Treatment\"))    \n",
    "    \n",
    "    # fit base model    \n",
    "    base_model <- aov(post ~ group*gov_trust_cat + wave + \n",
    "                      republican + conservative + \n",
    "                      employment2 + education2 + marital_status + gender + age + income2 +                     \n",
    "                      pre, data = data)\n",
    "     \n",
    "    # calculate Box-Cox lambda\n",
    "    bc <- trafo::boxcox(base_model, method = \"ml\", lambdarange = c(-10, 3), plotit = FALSE)\n",
    "    lambda <- bc$lambdahat\n",
    "    bctrans <- make.tran(\"boxcox\", lambda)\n",
    "  \n",
    "    # fit model to transformed data    \n",
    "    model <- with(bctrans,\n",
    "              aov(linkfun(post) ~ group*gov_trust_cat + wave + \n",
    "                                  republican + conservative + \n",
    "                                  employment2 + education2 + marital_status + gender + age + income2 +                     \n",
    "                                  linkfun(pre), data = data)) \n",
    "    \n",
    "    lm_model <- with(bctrans,\n",
    "              lm(linkfun(post) ~ group*gov_trust_cat + wave + \n",
    "                                  republican + conservative + \n",
    "                                  employment2 + education2 + marital_status + gender + age + income2 +                     \n",
    "                                  linkfun(pre), data = data)) \n",
    "    \n",
    "    mean <- model$coefficients[names(model$coefficients) %>% str_detect(\":\")]\n",
    "    ci_tbl <- model %>% confint() %>% as_tibble()\n",
    "    row_names <- model %>% confint() %>% rownames()\n",
    "    idx <- which(row_names %>% str_detect(\":\"))\n",
    "    low <- ci_tbl$`2.5 %`[idx]\n",
    "    high <- ci_tbl$`97.5 %`[idx]\n",
    "    idx <- which(rownames(car::Anova(model, type = \"III\")) %>% str_detect(\":\"))\n",
    "    p <- car::Anova(model, type = \"III\")[[4]][idx]\n",
    "    sig = \"\"\n",
    "    if (p < 0.05){sig = \"*\"}\n",
    "    if (p < 0.01){sig = \"**\"}\n",
    "    if (p < 0.001){sig = \"***\"}\n",
    "    ci_summary <- paste0(\"mean = \", round(mean, 3), \n",
    "                         \"; 95% CI = \", round(low, 3), \", \", round(high, 3), \n",
    "                         \"; P = \", round(p, 4))\n",
    "        \n",
    "    return(list(\n",
    "        \"base_model\" = base_model,        \n",
    "        \"model\" = model,\n",
    "        \"lm_model\" = lm_model,\n",
    "        \"ci_summary\" = ci_summary))}"
   ]
  },
  {
   "cell_type": "code",
   "execution_count": 5,
   "metadata": {},
   "outputs": [],
   "source": [
    "intention <- test_interaction_gov_trust(data = vcf_data %>% dplyr::mutate(post = intention_6_n, pre = base_intention_n))\n",
    "encourage <- test_interaction_gov_trust(data = vcf_data %>% dplyr::mutate(post = encourage_6_n, pre = base_encourage_n))\n",
    "sp_confidence <- test_interaction_gov_trust(data = vcf_data %>% dplyr::mutate(post = sp_confidence_6_n, pre = base_sp_confidence_n))\n",
    "sp_complacency <- test_interaction_gov_trust(data = vcf_data %>% dplyr::mutate(post = sp_complacency_6_n, pre = base_sp_complacency_n))"
   ]
  },
  {
   "cell_type": "code",
   "execution_count": 6,
   "metadata": {},
   "outputs": [
    {
     "data": {
      "text/html": [
       "'Intentions: mean = -0.004; 95% CI = -0.104, 0.097; P = 0.9447'"
      ],
      "text/latex": [
       "'Intentions: mean = -0.004; 95\\% CI = -0.104, 0.097; P = 0.9447'"
      ],
      "text/markdown": [
       "'Intentions: mean = -0.004; 95% CI = -0.104, 0.097; P = 0.9447'"
      ],
      "text/plain": [
       "[1] \"Intentions: mean = -0.004; 95% CI = -0.104, 0.097; P = 0.9447\""
      ]
     },
     "metadata": {},
     "output_type": "display_data"
    },
    {
     "data": {
      "text/html": [
       "'Intentions to encourage: mean = -0.022; 95% CI = -0.16, 0.116; P = 0.7528'"
      ],
      "text/latex": [
       "'Intentions to encourage: mean = -0.022; 95\\% CI = -0.16, 0.116; P = 0.7528'"
      ],
      "text/markdown": [
       "'Intentions to encourage: mean = -0.022; 95% CI = -0.16, 0.116; P = 0.7528'"
      ],
      "text/plain": [
       "[1] \"Intentions to encourage: mean = -0.022; 95% CI = -0.16, 0.116; P = 0.7528\""
      ]
     },
     "metadata": {},
     "output_type": "display_data"
    },
    {
     "data": {
      "text/html": [
       "'Vaccine confidence beliefs: mean = 0.064; 95% CI = -0.1, 0.228; P = 0.4412'"
      ],
      "text/latex": [
       "'Vaccine confidence beliefs: mean = 0.064; 95\\% CI = -0.1, 0.228; P = 0.4412'"
      ],
      "text/markdown": [
       "'Vaccine confidence beliefs: mean = 0.064; 95% CI = -0.1, 0.228; P = 0.4412'"
      ],
      "text/plain": [
       "[1] \"Vaccine confidence beliefs: mean = 0.064; 95% CI = -0.1, 0.228; P = 0.4412\""
      ]
     },
     "metadata": {},
     "output_type": "display_data"
    },
    {
     "data": {
      "text/html": [
       "'Vaccine complacency beliefs: mean = 0.024; 95% CI = -0.162, 0.209; P = 0.8028'"
      ],
      "text/latex": [
       "'Vaccine complacency beliefs: mean = 0.024; 95\\% CI = -0.162, 0.209; P = 0.8028'"
      ],
      "text/markdown": [
       "'Vaccine complacency beliefs: mean = 0.024; 95% CI = -0.162, 0.209; P = 0.8028'"
      ],
      "text/plain": [
       "[1] \"Vaccine complacency beliefs: mean = 0.024; 95% CI = -0.162, 0.209; P = 0.8028\""
      ]
     },
     "metadata": {},
     "output_type": "display_data"
    }
   ],
   "source": [
    "paste0(\"Intentions: \", intention$ci_summary)\n",
    "paste0(\"Intentions to encourage: \", encourage$ci_summary)\n",
    "paste0(\"Vaccine confidence beliefs: \", sp_confidence$ci_summary)\n",
    "paste0(\"Vaccine complacency beliefs: \", sp_complacency$ci_summary)"
   ]
  },
  {
   "cell_type": "markdown",
   "metadata": {},
   "source": [
    "### Party Affiliation Interactions"
   ]
  },
  {
   "cell_type": "code",
   "execution_count": 7,
   "metadata": {},
   "outputs": [],
   "source": [
    "test_interaction_republican <- function(data){\n",
    "    \n",
    "    data$group <- factor(data$group, levels = c(\"Control\", \"Treatment\"))    \n",
    "    \n",
    "    # fit base model    \n",
    "    base_model <- aov(post ~ group*republican + wave + \n",
    "                      phi_trust_cat + conservative +  \n",
    "                      employment2 + education2 + marital_status + gender + age + income2 +                     \n",
    "                      pre, data = data)   \n",
    "     \n",
    "    # calculate Box-Cox lambda\n",
    "    bc <- trafo::boxcox(base_model, method = \"ml\", lambdarange = c(-10, 3), plotit = FALSE)\n",
    "    lambda <- bc$lambdahat\n",
    "    bctrans <- make.tran(\"boxcox\", lambda)\n",
    "  \n",
    "    # fit model to transformed data    \n",
    "    model <- with(bctrans,\n",
    "              aov(linkfun(post) ~ group*republican + wave + \n",
    "                                  phi_trust_cat + conservative +\n",
    "                                  employment2 + education2 + marital_status + gender + age + income2 +                     \n",
    "                                  linkfun(pre), data = data))             \n",
    "    \n",
    "    lm_model <- with(bctrans,\n",
    "              lm(linkfun(post) ~ group*republican + wave + \n",
    "                                  phi_trust_cat + conservative +\n",
    "                                  employment2 + education2 + marital_status + gender + age + income2 +                     \n",
    "                                  linkfun(pre), data = data))              \n",
    "    \n",
    "    mean <- model$coefficients[names(model$coefficients) %>% str_detect(\":\")]\n",
    "    ci_tbl <- model %>% confint() %>% as_tibble()\n",
    "    row_names <- model %>% confint() %>% rownames()\n",
    "    idx <- which(row_names %>% str_detect(\":\"))\n",
    "    low <- ci_tbl$`2.5 %`[idx]\n",
    "    high <- ci_tbl$`97.5 %`[idx]\n",
    "    idx <- which(rownames(car::Anova(model, type = \"III\")) %>% str_detect(\":\"))\n",
    "    p <- car::Anova(model, type = \"III\")[[4]][idx]\n",
    "    sig = \"\"\n",
    "    if (p < 0.05){sig = \"*\"}\n",
    "    if (p < 0.01){sig = \"**\"}\n",
    "    if (p < 0.001){sig = \"***\"}\n",
    "    ci_summary <- paste0(\"mean = \", round(mean, 3), \n",
    "                         \"; 95% CI = \", round(low, 3), \", \", round(high, 3), \n",
    "                         \"; P = \", round(p, 4))\n",
    "        \n",
    "    return(list(\n",
    "        \"base_model\" = base_model,        \n",
    "        \"model\" = model,\n",
    "        \"lm_model\" = lm_model,\n",
    "        \"ci_summary\" = ci_summary))}"
   ]
  },
  {
   "cell_type": "code",
   "execution_count": 8,
   "metadata": {},
   "outputs": [],
   "source": [
    "intention <- test_interaction_republican(data = vcf_data %>% dplyr::mutate(post = intention_6_n, pre = base_intention_n))\n",
    "encourage <- test_interaction_republican(data = vcf_data %>% dplyr::mutate(post = encourage_6_n, pre = base_encourage_n))\n",
    "sp_confidence <- test_interaction_republican(data = vcf_data %>% dplyr::mutate(post = sp_confidence_6_n, pre = base_sp_confidence_n))\n",
    "sp_complacency <- test_interaction_republican(data = vcf_data %>% dplyr::mutate(post = sp_complacency_6_n, pre = base_sp_complacency_n))"
   ]
  },
  {
   "cell_type": "code",
   "execution_count": 9,
   "metadata": {},
   "outputs": [
    {
     "data": {
      "text/html": [
       "'Intentions: mean = -0.026; 95% CI = -0.129, 0.078; P = 0.6266'"
      ],
      "text/latex": [
       "'Intentions: mean = -0.026; 95\\% CI = -0.129, 0.078; P = 0.6266'"
      ],
      "text/markdown": [
       "'Intentions: mean = -0.026; 95% CI = -0.129, 0.078; P = 0.6266'"
      ],
      "text/plain": [
       "[1] \"Intentions: mean = -0.026; 95% CI = -0.129, 0.078; P = 0.6266\""
      ]
     },
     "metadata": {},
     "output_type": "display_data"
    },
    {
     "data": {
      "text/html": [
       "'Intentions to encourage: mean = -0.094; 95% CI = -0.235, 0.046; P = 0.1861'"
      ],
      "text/latex": [
       "'Intentions to encourage: mean = -0.094; 95\\% CI = -0.235, 0.046; P = 0.1861'"
      ],
      "text/markdown": [
       "'Intentions to encourage: mean = -0.094; 95% CI = -0.235, 0.046; P = 0.1861'"
      ],
      "text/plain": [
       "[1] \"Intentions to encourage: mean = -0.094; 95% CI = -0.235, 0.046; P = 0.1861\""
      ]
     },
     "metadata": {},
     "output_type": "display_data"
    },
    {
     "data": {
      "text/html": [
       "'Vaccine confidence beliefs: mean = -0.055; 95% CI = -0.22, 0.109; P = 0.507'"
      ],
      "text/latex": [
       "'Vaccine confidence beliefs: mean = -0.055; 95\\% CI = -0.22, 0.109; P = 0.507'"
      ],
      "text/markdown": [
       "'Vaccine confidence beliefs: mean = -0.055; 95% CI = -0.22, 0.109; P = 0.507'"
      ],
      "text/plain": [
       "[1] \"Vaccine confidence beliefs: mean = -0.055; 95% CI = -0.22, 0.109; P = 0.507\""
      ]
     },
     "metadata": {},
     "output_type": "display_data"
    },
    {
     "data": {
      "text/html": [
       "'Vaccine complacency beliefs: mean = -0.071; 95% CI = -0.255, 0.113; P = 0.4491'"
      ],
      "text/latex": [
       "'Vaccine complacency beliefs: mean = -0.071; 95\\% CI = -0.255, 0.113; P = 0.4491'"
      ],
      "text/markdown": [
       "'Vaccine complacency beliefs: mean = -0.071; 95% CI = -0.255, 0.113; P = 0.4491'"
      ],
      "text/plain": [
       "[1] \"Vaccine complacency beliefs: mean = -0.071; 95% CI = -0.255, 0.113; P = 0.4491\""
      ]
     },
     "metadata": {},
     "output_type": "display_data"
    }
   ],
   "source": [
    "paste0(\"Intentions: \", intention$ci_summary)\n",
    "paste0(\"Intentions to encourage: \", encourage$ci_summary)\n",
    "paste0(\"Vaccine confidence beliefs: \", sp_confidence$ci_summary)\n",
    "paste0(\"Vaccine complacency beliefs: \", sp_complacency$ci_summary)"
   ]
  },
  {
   "cell_type": "markdown",
   "metadata": {},
   "source": [
    "### Political Views Interactions"
   ]
  },
  {
   "cell_type": "code",
   "execution_count": 10,
   "metadata": {},
   "outputs": [],
   "source": [
    "test_interaction_conservative <- function(data){\n",
    "    \n",
    "    data$group <- factor(data$group, levels = c(\"Control\", \"Treatment\"))    \n",
    "    \n",
    "    # fit base model    \n",
    "    base_model <- aov(post ~ group*conservative + wave + \n",
    "                      phi_trust_cat + republican +  \n",
    "                      employment2 + education2 + marital_status + gender + age + income2 +                     \n",
    "                      pre, data = data)\n",
    "     \n",
    "    # calculate Box-Cox lambda\n",
    "    bc <- trafo::boxcox(base_model, method = \"ml\", lambdarange = c(-10, 3), plotit = FALSE)\n",
    "    lambda <- bc$lambdahat\n",
    "    bctrans <- make.tran(\"boxcox\", lambda)\n",
    "  \n",
    "    # fit model to transformed data    \n",
    "    model <- with(bctrans,\n",
    "              aov(linkfun(post) ~ group*conservative + wave + \n",
    "                                  phi_trust_cat + republican +\n",
    "                                  employment2 + education2 + marital_status + gender + age + income2 +                     \n",
    "                                  linkfun(pre), data = data))     \n",
    "    \n",
    "    lm_model <- with(bctrans,\n",
    "              lm(linkfun(post) ~ group*conservative + wave + \n",
    "                                  phi_trust_cat + republican +\n",
    "                                  employment2 + education2 + marital_status + gender + age + income2 +                     \n",
    "                                  linkfun(pre), data = data))     \n",
    "    \n",
    "    mean <- model$coefficients[names(model$coefficients) %>% str_detect(\":\")]\n",
    "    ci_tbl <- model %>% confint() %>% as_tibble()\n",
    "    row_names <- model %>% confint() %>% rownames()\n",
    "    idx <- which(row_names %>% str_detect(\":\"))\n",
    "    low <- ci_tbl$`2.5 %`[idx]\n",
    "    high <- ci_tbl$`97.5 %`[idx]\n",
    "    idx <- which(rownames(car::Anova(model, type = \"III\")) %>% str_detect(\":\"))\n",
    "    p <- car::Anova(model, type = \"III\")[[4]][idx]\n",
    "    sig = \"\"\n",
    "    if (p < 0.05){sig = \"*\"}\n",
    "    if (p < 0.01){sig = \"**\"}\n",
    "    if (p < 0.001){sig = \"***\"}\n",
    "    ci_summary <- paste0(\"mean = \", round(mean, 3), \n",
    "                         \"; 95% CI = \", round(low, 3), \", \", round(high, 3), \n",
    "                         \"; P = \", round(p, 4))\n",
    "        \n",
    "    return(list(\n",
    "        \"base_model\" = base_model,        \n",
    "        \"model\" = model,\n",
    "        \"lm_model\" = lm_model, \n",
    "        \"ci_summary\" = ci_summary))}"
   ]
  },
  {
   "cell_type": "code",
   "execution_count": 11,
   "metadata": {},
   "outputs": [],
   "source": [
    "intention <- test_interaction_conservative(data = vcf_data %>% dplyr::mutate(post = intention_6_n, pre = base_intention_n))\n",
    "encourage <- test_interaction_conservative(data = vcf_data %>% dplyr::mutate(post = encourage_6_n, pre = base_encourage_n))\n",
    "sp_confidence <- test_interaction_conservative(data = vcf_data %>% dplyr::mutate(post = sp_confidence_6_n, pre = base_sp_confidence_n))\n",
    "sp_complacency <- test_interaction_conservative(data = vcf_data %>% dplyr::mutate(post = sp_complacency_6_n, pre = base_sp_complacency_n))"
   ]
  },
  {
   "cell_type": "code",
   "execution_count": 12,
   "metadata": {},
   "outputs": [
    {
     "data": {
      "text/html": [
       "'Intentions: mean = -0.024; 95% CI = -0.124, 0.077; P = 0.6426'"
      ],
      "text/latex": [
       "'Intentions: mean = -0.024; 95\\% CI = -0.124, 0.077; P = 0.6426'"
      ],
      "text/markdown": [
       "'Intentions: mean = -0.024; 95% CI = -0.124, 0.077; P = 0.6426'"
      ],
      "text/plain": [
       "[1] \"Intentions: mean = -0.024; 95% CI = -0.124, 0.077; P = 0.6426\""
      ]
     },
     "metadata": {},
     "output_type": "display_data"
    },
    {
     "data": {
      "text/html": [
       "'Intentions to encourage: mean = 0.1; 95% CI = -0.037, 0.237; P = 0.1528'"
      ],
      "text/latex": [
       "'Intentions to encourage: mean = 0.1; 95\\% CI = -0.037, 0.237; P = 0.1528'"
      ],
      "text/markdown": [
       "'Intentions to encourage: mean = 0.1; 95% CI = -0.037, 0.237; P = 0.1528'"
      ],
      "text/plain": [
       "[1] \"Intentions to encourage: mean = 0.1; 95% CI = -0.037, 0.237; P = 0.1528\""
      ]
     },
     "metadata": {},
     "output_type": "display_data"
    },
    {
     "data": {
      "text/html": [
       "'Vaccine confidence beliefs: mean = 0.057; 95% CI = -0.103, 0.218; P = 0.4843'"
      ],
      "text/latex": [
       "'Vaccine confidence beliefs: mean = 0.057; 95\\% CI = -0.103, 0.218; P = 0.4843'"
      ],
      "text/markdown": [
       "'Vaccine confidence beliefs: mean = 0.057; 95% CI = -0.103, 0.218; P = 0.4843'"
      ],
      "text/plain": [
       "[1] \"Vaccine confidence beliefs: mean = 0.057; 95% CI = -0.103, 0.218; P = 0.4843\""
      ]
     },
     "metadata": {},
     "output_type": "display_data"
    },
    {
     "data": {
      "text/html": [
       "'Vaccine complacency beliefs: mean = 0.078; 95% CI = -0.102, 0.258; P = 0.3964'"
      ],
      "text/latex": [
       "'Vaccine complacency beliefs: mean = 0.078; 95\\% CI = -0.102, 0.258; P = 0.3964'"
      ],
      "text/markdown": [
       "'Vaccine complacency beliefs: mean = 0.078; 95% CI = -0.102, 0.258; P = 0.3964'"
      ],
      "text/plain": [
       "[1] \"Vaccine complacency beliefs: mean = 0.078; 95% CI = -0.102, 0.258; P = 0.3964\""
      ]
     },
     "metadata": {},
     "output_type": "display_data"
    }
   ],
   "source": [
    "paste0(\"Intentions: \", intention$ci_summary)\n",
    "paste0(\"Intentions to encourage: \", encourage$ci_summary)\n",
    "paste0(\"Vaccine confidence beliefs: \", sp_confidence$ci_summary)\n",
    "paste0(\"Vaccine complacency beliefs: \", sp_complacency$ci_summary)"
   ]
  }
 ],
 "metadata": {
  "kernelspec": {
   "display_name": "R",
   "language": "R",
   "name": "ir"
  },
  "language_info": {
   "codemirror_mode": "r",
   "file_extension": ".r",
   "mimetype": "text/x-r-source",
   "name": "R",
   "pygments_lexer": "r",
   "version": "4.2.0"
  },
  "toc": {
   "base_numbering": 1,
   "nav_menu": {},
   "number_sections": true,
   "sideBar": true,
   "skip_h1_title": false,
   "title_cell": "Table of Contents",
   "title_sidebar": "Contents",
   "toc_cell": false,
   "toc_position": {
    "height": "calc(100% - 180px)",
    "left": "10px",
    "top": "150px",
    "width": "414.736px"
   },
   "toc_section_display": true,
   "toc_window_display": true
  }
 },
 "nbformat": 4,
 "nbformat_minor": 4
}
