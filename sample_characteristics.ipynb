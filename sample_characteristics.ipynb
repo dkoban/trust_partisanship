{
 "cells": [
  {
   "cell_type": "markdown",
   "metadata": {},
   "source": [
    "## Sample Characteristics"
   ]
  },
  {
   "cell_type": "code",
   "execution_count": 1,
   "metadata": {},
   "outputs": [
    {
     "data": {
      "text/html": [
       "'Initial sample: 371'"
      ],
      "text/latex": [
       "'Initial sample: 371'"
      ],
      "text/markdown": [
       "'Initial sample: 371'"
      ],
      "text/plain": [
       "[1] \"Initial sample: 371\""
      ]
     },
     "metadata": {},
     "output_type": "display_data"
    }
   ],
   "source": [
    "suppressWarnings(suppressMessages(library(tidyverse)))\n",
    "library(tableone)\n",
    "\n",
    "# Load the data\n",
    "load(file = \"~/Documents/vcf/data/moderation.RData\")\n",
    "paste0(\"Initial sample: \", nrow(vcf_data))"
   ]
  },
  {
   "cell_type": "code",
   "execution_count": 2,
   "metadata": {},
   "outputs": [
    {
     "data": {
      "text/plain": [
       "                                     \n",
       "                                      Overall      \n",
       "  n                                     371        \n",
       "  age (mean (SD))                     37.05 (9.57) \n",
       "  gender = Female (%)                   268 (72.2) \n",
       "  race (%)                                         \n",
       "     American Indian/Alaska Native        2 ( 0.5) \n",
       "     Asian                                7 ( 1.9) \n",
       "     Black or African American           41 (11.1) \n",
       "     Native Hawaiian/Pacific Islander     2 ( 0.5) \n",
       "     Other (please describe):             9 ( 2.4) \n",
       "     Prefer not to answer                 4 ( 1.1) \n",
       "     White                              306 (82.5) \n",
       "  marital_status = Married (%)          153 (41.2) \n",
       "  employment2 = Working (%)             266 (71.7) \n",
       "  education2 = some college (%)         294 (79.2) \n",
       "  income2 = less than $50,000 (%)       214 (57.7) \n",
       "  political_view2 (%)                              \n",
       "     Moderate                           114 (30.7) \n",
       "     Liberal                             78 (21.0) \n",
       "     Conservative                       168 (45.3) \n",
       "     No answer                           11 ( 3.0) \n",
       "  political_affiliation (%)                        \n",
       "     Democrat                            73 (19.7) \n",
       "     Independent                        133 (35.8) \n",
       "     Other                               18 ( 4.9) \n",
       "     Republican                         147 (39.6) \n",
       "  fed_gov_trust_di = distrust (%)       204 (55.0) \n",
       "  local_gov_trust_di = distrust (%)     185 (49.9) \n",
       "  cdc_trust_di = distrust (%)           134 (36.1) \n",
       "  fda_trust_di = distrust (%)           148 (39.9) \n",
       "  doctor_trust_di = distrust (%)         26 ( 7.3) \n",
       "  group = Control (%)                   165 (44.5) "
      ]
     },
     "metadata": {},
     "output_type": "display_data"
    }
   ],
   "source": [
    "temp <- vcf_data %>%\n",
    "              dplyr::select(age, gender, race, marital_status, employment2, education2, income2,\n",
    "                            political_view2, political_affiliation, \n",
    "                            fed_gov_trust_di, local_gov_trust_di, \n",
    "                            cdc_trust_di, fda_trust_di, doctor_trust_di,\n",
    "                            group)\n",
    "\n",
    "tbl <- CreateTableOne(data = temp)\n",
    "tbl"
   ]
  },
  {
   "cell_type": "markdown",
   "metadata": {},
   "source": [
    "### Stratified by treatment group"
   ]
  },
  {
   "cell_type": "code",
   "execution_count": 3,
   "metadata": {},
   "outputs": [
    {
     "data": {
      "text/plain": [
       "                                   Stratified by group\n",
       "                                    Treatment     Control        p      test\n",
       "  n                                   206           165                     \n",
       "  age (mean (SD))                   36.97 (9.97)  37.16 (9.07)    0.844     \n",
       "  gender = Female (%)                 148 (71.8)    120 ( 72.7)   0.943     \n",
       "  white = white (%)                   166 (80.6)    140 ( 84.8)   0.349     \n",
       "  afr_am = afr_am (%)                  22 (10.7)     19 ( 11.5)   0.930     \n",
       "  other = other (%)                    18 ( 8.7)      6 (  3.6)   0.076     \n",
       "  marital_status = Married (%)         85 (41.3)     68 ( 41.2)   1.000     \n",
       "  employment2 = Working (%)           149 (72.3)    117 ( 70.9)   0.852     \n",
       "  education2 = some college (%)       158 (76.7)    136 ( 82.4)   0.222     \n",
       "  income2 = less than $50,000 (%)     122 (59.2)     92 ( 55.8)   0.572     \n",
       "  conservative = conserv (%)           93 (45.1)     75 ( 45.5)   1.000     \n",
       "  republican = nonrep (%)             125 (60.7)     99 ( 60.0)   0.979     \n",
       "  fed_gov_trust_di = distrust (%)     115 (55.8)     89 ( 53.9)   0.797     \n",
       "  local_gov_trust_di = distrust (%)   106 (51.5)     79 ( 47.9)   0.562     \n",
       "  cdc_trust_di = distrust (%)          71 (34.5)     63 ( 38.2)   0.528     \n",
       "  fda_trust_di = distrust (%)          81 (39.3)     67 ( 40.6)   0.885     \n",
       "  doctor_trust_di = distrust (%)       16 ( 8.2)     10 (  6.2)   0.616     \n",
       "  group = Control (%)                   0 ( 0.0)    165 (100.0)  <0.001     "
      ]
     },
     "metadata": {},
     "output_type": "display_data"
    }
   ],
   "source": [
    "temp <- vcf_data %>%\n",
    "              dplyr::select(age, gender, white, afr_am, other, \n",
    "                            marital_status, employment2, education2, income2, \n",
    "                            conservative, republican,\n",
    "                            fed_gov_trust_di, local_gov_trust_di, \n",
    "                            cdc_trust_di, fda_trust_di, doctor_trust_di,\n",
    "                            group)\n",
    "\n",
    "CreateTableOne(strat = c(\"group\"), data = temp)"
   ]
  },
  {
   "cell_type": "markdown",
   "metadata": {},
   "source": [
    "### Stratified by political party"
   ]
  },
  {
   "cell_type": "code",
   "execution_count": 4,
   "metadata": {},
   "outputs": [
    {
     "data": {
      "text/plain": [
       "                                   Stratified by republican\n",
       "                                    rep           nonrep         p      test\n",
       "  n                                   147           224                     \n",
       "  age (mean (SD))                   37.59 (9.42)  36.70 (9.67)    0.381     \n",
       "  gender = Female (%)                 110 (74.8)    158 ( 70.5)   0.433     \n",
       "  white = white (%)                   133 (90.5)    173 ( 77.2)   0.002     \n",
       "  afr_am = afr_am (%)                   3 ( 2.0)     38 ( 17.0)  <0.001     \n",
       "  other = other (%)                    11 ( 7.5)     13 (  5.8)   0.669     \n",
       "  marital_status = Married (%)         81 (55.1)     72 ( 32.1)  <0.001     \n",
       "  employment2 = Working (%)           114 (77.6)    152 ( 67.9)   0.056     \n",
       "  education2 = some college (%)       117 (79.6)    177 ( 79.0)   0.998     \n",
       "  income2 = less than $50,000 (%)      67 (45.6)    147 ( 65.6)  <0.001     \n",
       "  conservative = conserv (%)          134 (91.2)     34 ( 15.2)  <0.001     \n",
       "  republican = nonrep (%)               0 ( 0.0)    224 (100.0)  <0.001     \n",
       "  fed_gov_trust_di = distrust (%)      96 (65.3)    108 ( 48.2)   0.002     \n",
       "  local_gov_trust_di = distrust (%)    86 (58.5)     99 ( 44.2)   0.010     \n",
       "  cdc_trust_di = distrust (%)          72 (49.0)     62 ( 27.7)  <0.001     \n",
       "  fda_trust_di = distrust (%)          71 (48.3)     77 ( 34.4)   0.010     \n",
       "  doctor_trust_di = distrust (%)       11 ( 7.7)     15 (  7.0)   0.947     \n",
       "  group = Control (%)                  66 (44.9)     99 ( 44.2)   0.979     "
      ]
     },
     "metadata": {},
     "output_type": "display_data"
    }
   ],
   "source": [
    "CreateTableOne(strat = c(\"republican\"), data = temp) "
   ]
  }
 ],
 "metadata": {
  "kernelspec": {
   "display_name": "R",
   "language": "R",
   "name": "ir"
  },
  "language_info": {
   "codemirror_mode": "r",
   "file_extension": ".r",
   "mimetype": "text/x-r-source",
   "name": "R",
   "pygments_lexer": "r",
   "version": "4.2.0"
  },
  "toc": {
   "base_numbering": 1,
   "nav_menu": {},
   "number_sections": true,
   "sideBar": true,
   "skip_h1_title": false,
   "title_cell": "Table of Contents",
   "title_sidebar": "Contents",
   "toc_cell": false,
   "toc_position": {},
   "toc_section_display": true,
   "toc_window_display": false
  }
 },
 "nbformat": 4,
 "nbformat_minor": 4
}
